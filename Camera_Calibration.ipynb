{
  "cells": [
    {
      "cell_type": "markdown",
      "metadata": {
        "id": "view-in-github",
        "colab_type": "text"
      },
      "source": [
        "<a href=\"https://colab.research.google.com/github/rishav197/Camera-Calibration-using-OpenCV/blob/main/Camera_Calibration.ipynb\" target=\"_parent\"><img src=\"https://colab.research.google.com/assets/colab-badge.svg\" alt=\"Open In Colab\"/></a>"
      ]
    },
    {
      "cell_type": "code",
      "execution_count": 1,
      "metadata": {
        "colab": {
          "base_uri": "https://localhost:8080/"
        },
        "id": "EdUnHw57_97p",
        "outputId": "e73f4a04-7f44-4b73-d7a5-dfc31d529b2e"
      },
      "outputs": [
        {
          "output_type": "stream",
          "name": "stdout",
          "text": [
            "Mounted at /content/drive\n"
          ]
        }
      ],
      "source": [
        "from google.colab import drive\n",
        "drive.mount('/content/drive')"
      ]
    },
    {
      "cell_type": "code",
      "execution_count": 2,
      "metadata": {
        "id": "VnKlo2DS8Evj"
      },
      "outputs": [],
      "source": [
        "import cv2\n",
        "import numpy as np\n",
        "import os\n",
        "import glob\n",
        "from google.colab.patches import cv2_imshow"
      ]
    },
    {
      "cell_type": "code",
      "execution_count": 3,
      "metadata": {
        "id": "yp3AoqDO8V74"
      },
      "outputs": [],
      "source": [
        "# Difining the dim of checker board\n",
        "checkerBoard = (6, 9)\n",
        "# termination criteria\n",
        "criteria = (cv2.TERM_CRITERIA_EPS + cv2.TERM_CRITERIA_MAX_ITER, 30, 0.001)"
      ]
    },
    {
      "cell_type": "code",
      "execution_count": 4,
      "metadata": {
        "id": "QGbGn7RH8V-k"
      },
      "outputs": [],
      "source": [
        "object_pts = [] # 3D points in real world\n",
        "image_pts = [] # 2D points in image plane"
      ]
    },
    {
      "cell_type": "code",
      "execution_count": 5,
      "metadata": {
        "colab": {
          "base_uri": "https://localhost:8080/"
        },
        "id": "zA79ZW0R8WBG",
        "outputId": "9a926f6b-58ce-4bfd-c73d-f2ce1ac68f15"
      },
      "outputs": [
        {
          "output_type": "stream",
          "name": "stdout",
          "text": [
            "1 (1, 54, 3)\n"
          ]
        }
      ],
      "source": [
        "# Defining the world coordinates for 3D points\n",
        "objp = np.zeros((1, checkerBoard[0]*checkerBoard[1], 3), np.float32)\n",
        "print(len(objp), objp.shape)\n",
        "# print(objp)\n",
        "objp[0,:,:2] = np.mgrid[0:checkerBoard[0], 0:checkerBoard[1]].T.reshape(-1,2)\n",
        "# print(objp)\n",
        "prev_img_shape = None"
      ]
    },
    {
      "cell_type": "markdown",
      "source": [
        "### Camera Calibration"
      ],
      "metadata": {
        "id": "_kinpV4LDc3L"
      }
    },
    {
      "cell_type": "code",
      "execution_count": 6,
      "metadata": {
        "id": "B5AcEvOx8WD-"
      },
      "outputs": [],
      "source": [
        "# extracting each image\n",
        "images = glob.glob(\"/content/drive/MyDrive/CV_H2/images25/*.jpg\")\n",
        "\n",
        "for image in images:\n",
        "\n",
        "  img = cv2.imread(image)\n",
        "  # print(img)\n",
        "  gray = cv2.cvtColor(img, cv2.COLOR_BGR2GRAY)\n",
        "\n",
        "  # finding the no. of corners\n",
        "  ret, corners = cv2.findChessboardCorners(gray, checkerBoard, cv2.CALIB_CB_ADAPTIVE_THRESH + cv2.CALIB_CB_FAST_CHECK + cv2.CALIB_CB_NORMALIZE_IMAGE)\n",
        "\n",
        "  if ret==True:\n",
        "    object_pts.append(objp)\n",
        "    corners2 = cv2.cornerSubPix(gray, corners, (11,11), (-1,-1), criteria)\n",
        "    # print(corners2)\n",
        "    image_pts.append(corners2)\n",
        "\n",
        "    # draw and display the corners\n",
        "    img = cv2.drawChessboardCorners(img, checkerBoard, corners2, ret) #for RGB images\n",
        "    # img = cv2.drawChessboardCorners(gray, checkerBoard, corners2, ret) #for gray scale images\n",
        "    # cv2_imshow(img)\n",
        "    cv2.waitKey(0)\n",
        "\n",
        "\n",
        "cv2.destroyAllWindows()"
      ]
    },
    {
      "cell_type": "code",
      "execution_count": 7,
      "metadata": {
        "id": "uo30PP5v8WHc",
        "colab": {
          "base_uri": "https://localhost:8080/"
        },
        "outputId": "99749ae5-5250-43a4-e6dd-dd32c1e61709"
      },
      "outputs": [
        {
          "output_type": "stream",
          "name": "stdout",
          "text": [
            "Camera matrix:\n",
            "(3, 3)\n",
            "[[1.19070059e+03 0.00000000e+00 5.98528099e+02]\n",
            " [0.00000000e+00 1.19235144e+03 7.91151419e+02]\n",
            " [0.00000000e+00 0.00000000e+00 1.00000000e+00]]\n",
            "\n",
            "Distortion coefficients:\n",
            "(1, 5)\n",
            "\n",
            "rvecs : \n",
            "25 2\n",
            "\n",
            "tvecs : \n",
            "25 3\n"
          ]
        }
      ],
      "source": [
        "# Camera Calibration\n",
        "\n",
        "ret, cameraMtx, distCoeff, rvecs, tvecs = cv2.calibrateCamera(object_pts, image_pts, gray.shape[::-1],None,None)\n",
        "\n",
        "print(\"Camera matrix:\")\n",
        "print(cameraMtx.shape)\n",
        "print(cameraMtx)\n",
        "\n",
        "print(\"\\nDistortion coefficients:\")\n",
        "print(distCoeff.shape)\n",
        "# print(distCoeff)\n",
        "\n",
        "print(\"\\nrvecs : \")\n",
        "print(len(rvecs), len(rvecs[0].shape))\n",
        "# print(rvecs)\n",
        "\n",
        "print(\"\\ntvecs : \")\n",
        "print(len(tvecs), len(tvecs[0]))\n",
        "# print(tvecs)"
      ]
    },
    {
      "cell_type": "markdown",
      "metadata": {
        "id": "0aZOi9sZtAG8"
      },
      "source": [
        "##Part 1) Intrinsic Camera Parameters"
      ]
    },
    {
      "cell_type": "code",
      "execution_count": 8,
      "metadata": {
        "colab": {
          "base_uri": "https://localhost:8080/"
        },
        "id": "ZDo_j1b7s-vJ",
        "outputId": "1c54c1e7-3089-4a50-d1b1-fef626bcfdda"
      },
      "outputs": [
        {
          "output_type": "stream",
          "name": "stdout",
          "text": [
            "Intrinsic Camera Parameters:\n",
            "Focal lengths: (1190.7, 1192.35)\n",
            "Skew parameter: 0.0\n",
            "Principal point: (598.53, 791.15)\n"
          ]
        }
      ],
      "source": [
        "print(\"Intrinsic Camera Parameters:\")\n",
        "print(\"Focal lengths: ({}, {})\".format(round(cameraMtx[0][0], 2), round(cameraMtx[1][1], 2)))\n",
        "print(\"Skew parameter: {}\".format(cameraMtx[0][1]))\n",
        "print(\"Principal point: ({}, {})\".format(round(cameraMtx[0][2], 2), round(cameraMtx[1][2], 2)))"
      ]
    },
    {
      "cell_type": "markdown",
      "metadata": {
        "id": "M1rUg3-lv9zJ"
      },
      "source": [
        "##Part 2) Extrinsic Camera Paramters"
      ]
    },
    {
      "cell_type": "code",
      "execution_count": 9,
      "metadata": {
        "colab": {
          "base_uri": "https://localhost:8080/"
        },
        "id": "hKDOUk2uMEzf",
        "outputId": "12d6cd81-4890-41ab-b4fb-d35f955ac107"
      },
      "outputs": [
        {
          "output_type": "stream",
          "name": "stdout",
          "text": [
            "Rotation Matrix image1:\n",
            "[[-0.06261427  0.87442705  0.48109955]\n",
            " [-0.90875091  0.14933886 -0.38970461]\n",
            " [-0.41261511 -0.46160073  0.78528564]]\n",
            "\n",
            "translation vector image1:\n",
            "[[-4.09432471]\n",
            " [ 1.28771818]\n",
            " [14.83373467]]\n",
            "\n",
            "\n",
            "Rotation Matrix image2:\n",
            "[[ 0.03281847  0.9990212   0.02965788]\n",
            " [-0.9981893   0.03126563  0.05138666]\n",
            " [ 0.05040909 -0.03129061  0.99823836]]\n",
            "\n",
            "translation vector image2:\n",
            "[[-3.98907717]\n",
            " [ 2.76974378]\n",
            " [12.11914878]]\n",
            "\n",
            "\n",
            "Rotation Matrix image3:\n",
            "[[-0.00277006  0.99354099  0.11343994]\n",
            " [-0.79539708  0.06656539 -0.60242222]\n",
            " [-0.60608235 -0.09189854  0.79007522]]\n",
            "\n",
            "translation vector image3:\n",
            "[[-4.25834318]\n",
            " [ 2.55620445]\n",
            " [15.9177424 ]]\n",
            "\n",
            "\n",
            "Rotation Matrix image4:\n",
            "[[ 0.07796071  0.98570661  0.1493473 ]\n",
            " [-0.95199764  0.02912613  0.30471652]\n",
            " [ 0.29601118 -0.16593419  0.94066106]]\n",
            "\n",
            "translation vector image4:\n",
            "[[-4.08198816]\n",
            " [-0.4557984 ]\n",
            " [13.04861431]]\n",
            "\n",
            "\n",
            "Rotation Matrix image5:\n",
            "[[-0.00554839  0.97600874  0.21766066]\n",
            " [-0.99994387 -0.00345053 -0.01001713]\n",
            " [-0.00902576 -0.21770402  0.9759731 ]]\n",
            "\n",
            "translation vector image5:\n",
            "[[-4.2000856 ]\n",
            " [ 3.5742766 ]\n",
            " [13.06809992]]\n",
            "\n",
            "\n",
            "Rotation Matrix image6:\n",
            "[[ 0.04656186  0.99839502  0.03223943]\n",
            " [-0.919723    0.05544231 -0.38863319]\n",
            " [-0.38979686 -0.01155586  0.92082836]]\n",
            "\n",
            "translation vector image6:\n",
            "[[-3.97797504]\n",
            " [ 0.89131155]\n",
            " [14.69225337]]\n",
            "\n",
            "\n",
            "Rotation Matrix image7:\n",
            "[[ 0.03590642  0.97609841 -0.2143423 ]\n",
            " [-0.99934555  0.03601098 -0.0034182 ]\n",
            " [ 0.00438217  0.21432476  0.97675263]]\n",
            "\n",
            "translation vector image7:\n",
            "[[-3.62618965]\n",
            " [ 3.71941063]\n",
            " [11.13519754]]\n",
            "\n",
            "\n",
            "Rotation Matrix image8:\n",
            "[[ 0.03478814  0.99908717  0.02479133]\n",
            " [-0.95247252  0.02563289  0.30354416]\n",
            " [ 0.30263161 -0.03417279  0.95249479]]\n",
            "\n",
            "translation vector image8:\n",
            "[[-4.02995218]\n",
            " [ 1.11447572]\n",
            " [12.71433596]]\n",
            "\n",
            "\n",
            "Rotation Matrix image9:\n",
            "[[-0.00915261  0.99994829 -0.00443262]\n",
            " [-0.99992392 -0.00918887 -0.00822913]\n",
            " [-0.00826943  0.00435696  0.99995632]]\n",
            "\n",
            "translation vector image9:\n",
            "[[-3.63512343]\n",
            " [ 0.98448922]\n",
            " [13.19749989]]\n",
            "\n",
            "\n",
            "Rotation Matrix image10:\n",
            "[[-0.01659115  0.99968692 -0.01872978]\n",
            " [-0.98908069 -0.01915287 -0.14612513]\n",
            " [-0.14643811  0.01610088  0.98908879]]\n",
            "\n",
            "translation vector image10:\n",
            "[[-3.78884412]\n",
            " [ 1.63810867]\n",
            " [12.86358576]]\n",
            "\n",
            "\n",
            "Rotation Matrix image11:\n",
            "[[ 0.01091044  0.99759232 -0.06848737]\n",
            " [-0.82241358 -0.0300069  -0.56809814]\n",
            " [-0.56878544  0.06252314  0.82010608]]\n",
            "\n",
            "translation vector image11:\n",
            "[[-3.78746887]\n",
            " [ 1.47020218]\n",
            " [14.58179263]]\n",
            "\n",
            "\n",
            "Rotation Matrix image12:\n",
            "[[ 0.04752825  0.95172567  0.30324795]\n",
            " [-0.99798777  0.03248895  0.05445065]\n",
            " [ 0.04196987 -0.30522569  0.95135472]]\n",
            "\n",
            "translation vector image12:\n",
            "[[-4.17816211]\n",
            " [ 0.8861415 ]\n",
            " [14.59110461]]\n",
            "\n",
            "\n",
            "Rotation Matrix image13:\n",
            "[[ 0.00637919  0.72698699 -0.6866216 ]\n",
            " [-0.88426955 -0.31651847 -0.34334156]\n",
            " [-0.46693326  0.60934881  0.64083332]]\n",
            "\n",
            "translation vector image13:\n",
            "[[-1.21090623]\n",
            " [ 3.68084038]\n",
            " [ 9.40219189]]\n",
            "\n",
            "\n",
            "Rotation Matrix image14:\n",
            "[[-0.02799819  0.99231141 -0.12055771]\n",
            " [-0.87013945 -0.08355607 -0.48567039]\n",
            " [-0.4920096   0.09130413  0.86578872]]\n",
            "\n",
            "translation vector image14:\n",
            "[[-3.3014036]\n",
            " [ 3.6683297]\n",
            " [14.5586098]]\n",
            "\n",
            "\n",
            "Rotation Matrix image15:\n",
            "[[ 0.07276769  0.93086817 -0.35803536]\n",
            " [-0.98371004  0.12615405  0.12806133]\n",
            " [ 0.16437583  0.34288425  0.92488431]]\n",
            "\n",
            "translation vector image15:\n",
            "[[-2.88572785]\n",
            " [ 0.8333922 ]\n",
            " [10.41682229]]\n",
            "\n",
            "\n",
            "Rotation Matrix image16:\n",
            "[[ 0.07451531  0.85005188  0.52140126]\n",
            " [-0.79965814  0.36332741 -0.47805863]\n",
            " [-0.59581401 -0.38132008  0.70682436]]\n",
            "\n",
            "translation vector image16:\n",
            "[[-4.66586649]\n",
            " [ 1.16587513]\n",
            " [15.69017653]]\n",
            "\n",
            "\n",
            "Rotation Matrix image17:\n",
            "[[ 0.08978605  0.97415074  0.20728918]\n",
            " [-0.97247867  0.04082052  0.22938814]\n",
            " [ 0.21499698 -0.22218016  0.95100593]]\n",
            "\n",
            "translation vector image17:\n",
            "[[-4.46298615]\n",
            " [-0.20819022]\n",
            " [13.22817183]]\n",
            "\n",
            "\n",
            "Rotation Matrix image18:\n",
            "[[-0.00113467  0.89849146  0.43898953]\n",
            " [-0.99378797 -0.04986582  0.09949303]\n",
            " [ 0.11128421 -0.43614963  0.89296659]]\n",
            "\n",
            "translation vector image18:\n",
            "[[-4.17452737]\n",
            " [ 3.46635775]\n",
            " [13.14542173]]\n",
            "\n",
            "\n",
            "Rotation Matrix image19:\n",
            "[[-0.01911226  0.99757253 -0.06696088]\n",
            " [-0.91149477  0.01013731  0.41118673]\n",
            " [ 0.41086739  0.0688932   0.9090884 ]]\n",
            "\n",
            "translation vector image19:\n",
            "[[-3.53700039]\n",
            " [ 0.6953889 ]\n",
            " [11.32070417]]\n",
            "\n",
            "\n",
            "Rotation Matrix image20:\n",
            "[[ 0.02327836  0.97200948 -0.23378557]\n",
            " [-0.99954664  0.02709538  0.01312809]\n",
            " [ 0.01909514  0.23337399  0.97219955]]\n",
            "\n",
            "translation vector image20:\n",
            "[[-3.08563342]\n",
            " [ 2.82513744]\n",
            " [10.69792799]]\n",
            "\n",
            "\n",
            "Rotation Matrix image21:\n",
            "[[ 0.14716208  0.96686331  0.20861128]\n",
            " [-0.94059353  0.07155044  0.33191015]\n",
            " [ 0.30598551 -0.24506301  0.91995488]]\n",
            "\n",
            "translation vector image21:\n",
            "[[-4.77009435]\n",
            " [ 0.70111263]\n",
            " [13.09596146]]\n",
            "\n",
            "\n",
            "Rotation Matrix image22:\n",
            "[[-0.03639924  0.82330084 -0.56643695]\n",
            " [-0.98970578 -0.1082034  -0.09367222]\n",
            " [-0.13841082  0.55719633  0.81876413]]\n",
            "\n",
            "translation vector image22:\n",
            "[[-1.35300971]\n",
            " [ 3.68609087]\n",
            " [ 9.07536656]]\n",
            "\n",
            "\n",
            "Rotation Matrix image23:\n",
            "[[ 0.0484388   0.9890699  -0.13926381]\n",
            " [-0.79071005 -0.0472171  -0.61036723]\n",
            " [-0.61027149  0.13968275  0.77978038]]\n",
            "\n",
            "translation vector image23:\n",
            "[[-3.73655259]\n",
            " [ 3.42569244]\n",
            " [14.77401561]]\n",
            "\n",
            "\n",
            "Rotation Matrix image24:\n",
            "[[-0.0246971   0.93148977  0.36292818]\n",
            " [-0.98992866  0.02783438 -0.13880379]\n",
            " [-0.13939619 -0.36270106  0.92142099]]\n",
            "\n",
            "translation vector image24:\n",
            "[[-4.9690662 ]\n",
            " [ 2.79722617]\n",
            " [17.29092023]]\n",
            "\n",
            "\n",
            "Rotation Matrix image25:\n",
            "[[-0.0228057   0.99945041  0.02405791]\n",
            " [-0.99634868 -0.02074136 -0.08281971]\n",
            " [-0.0822752  -0.02585883  0.99627411]]\n",
            "\n",
            "translation vector image25:\n",
            "[[-3.94810656]\n",
            " [ 2.95765689]\n",
            " [14.96629396]]\n",
            "\n",
            "\n"
          ]
        }
      ],
      "source": [
        "# display rotation matrix and translation vector for each image\n",
        "\n",
        "for idx in range(len(rvecs)):\n",
        "  rmtx,_ = cv2.Rodrigues(rvecs[idx])\n",
        "  print(\"Rotation Matrix image{}:\".format(idx+1))\n",
        "  print(rmtx)\n",
        "  print(\"\\ntranslation vector image{}:\".format(idx+1))\n",
        "  print(tvecs[idx])\n",
        "  print(\"\\n\")\n"
      ]
    },
    {
      "cell_type": "markdown",
      "metadata": {
        "id": "y3rH54IdZ6zK"
      },
      "source": [
        "## Part 3) Radial Distortion coeffs"
      ]
    },
    {
      "cell_type": "code",
      "execution_count": 10,
      "metadata": {
        "id": "UjWzvpYkN1xA"
      },
      "outputs": [],
      "source": [
        "import random"
      ]
    },
    {
      "cell_type": "code",
      "execution_count": 11,
      "metadata": {
        "colab": {
          "base_uri": "https://localhost:8080/"
        },
        "id": "bClqlIgPZjVE",
        "outputId": "83060250-bd8e-4d50-fb8e-ae5ff187d73f"
      },
      "outputs": [
        {
          "output_type": "stream",
          "name": "stdout",
          "text": [
            "Distortion Coeffs:\n",
            "(k1, k2, p1, p2, k3) = (0.1054, -0.0292, -0.0029, 0.0035, -1.0968)\n"
          ]
        }
      ],
      "source": [
        "print(\"Distortion Coeffs:\")\n",
        "print(\"(k1, k2, p1, p2, k3) = ({}, {}, {}, {}, {})\".format(round(distCoeff[0][0], 4), round(distCoeff[0][1], 4), round(distCoeff[0][2], 4), round(distCoeff[0][3], 4), round(distCoeff[0][4], 4)))"
      ]
    },
    {
      "cell_type": "code",
      "execution_count": 12,
      "metadata": {
        "id": "x4GXeY3sgieJ"
      },
      "outputs": [],
      "source": [
        "\n",
        "images = glob.glob(\"/content/drive/MyDrive/CV_H2/raw_images5/*.jpg\")\n",
        "\n",
        "idx = 1\n",
        "path = \"/content/drive/MyDrive/CV_H2/undist_images5/\"\n",
        "for image in images:\n",
        "  img = cv2.imread(image)\n",
        "\n",
        "  h,w = img.shape[:2]\n",
        "  newCameraMatrix, roi = cv2.getOptimalNewCameraMatrix(cameraMtx, distCoeff, (w,h), 1, (w,h))\n",
        "\n",
        "  #Undistort the image\n",
        "  dst = cv2.undistort(img, cameraMtx, distCoeff, None, newCameraMatrix)\n",
        "  x, y, w, h = roi\n",
        "  dst = dst[y:y+h, x:x+w]\n",
        "  calib_img = path+\"calibrated_img\"+str(idx)+\".jpg\"\n",
        "  # print(calib_img)\n",
        "  cv2.imwrite(calib_img, dst)\n",
        "  idx += 1\n",
        "\n"
      ]
    },
    {
      "cell_type": "markdown",
      "metadata": {
        "id": "sGptNjnvyT5z"
      },
      "source": [
        "## Part 4) re-projection error"
      ]
    },
    {
      "cell_type": "code",
      "execution_count": 13,
      "metadata": {
        "id": "MTK-vnkoCfeN"
      },
      "outputs": [],
      "source": [
        "import math\n",
        "import matplotlib.pyplot as plt"
      ]
    },
    {
      "cell_type": "code",
      "execution_count": 14,
      "metadata": {
        "colab": {
          "base_uri": "https://localhost:8080/"
        },
        "id": "UYvar6Kbycao",
        "outputId": "c3dde6b7-76f6-49e1-a309-8a38b50cc459"
      },
      "outputs": [
        {
          "output_type": "stream",
          "name": "stdout",
          "text": [
            "re-projection error:\n",
            "image1: 0.14\n",
            "\n",
            "re-projection error:\n",
            "image2: 0.12\n",
            "\n",
            "re-projection error:\n",
            "image3: 0.13\n",
            "\n",
            "re-projection error:\n",
            "image4: 0.12\n",
            "\n",
            "re-projection error:\n",
            "image5: 0.12\n",
            "\n",
            "re-projection error:\n",
            "image6: 0.1\n",
            "\n",
            "re-projection error:\n",
            "image7: 0.13\n",
            "\n",
            "re-projection error:\n",
            "image8: 0.11\n",
            "\n",
            "re-projection error:\n",
            "image9: 0.09\n",
            "\n",
            "re-projection error:\n",
            "image10: 0.1\n",
            "\n",
            "re-projection error:\n",
            "image11: 0.13\n",
            "\n",
            "re-projection error:\n",
            "image12: 0.09\n",
            "\n",
            "re-projection error:\n",
            "image13: 0.25\n",
            "\n",
            "re-projection error:\n",
            "image14: 0.14\n",
            "\n",
            "re-projection error:\n",
            "image15: 0.15\n",
            "\n",
            "re-projection error:\n",
            "image16: 0.17\n",
            "\n",
            "re-projection error:\n",
            "image17: 0.11\n",
            "\n",
            "re-projection error:\n",
            "image18: 0.12\n",
            "\n",
            "re-projection error:\n",
            "image19: 0.15\n",
            "\n",
            "re-projection error:\n",
            "image20: 0.14\n",
            "\n",
            "re-projection error:\n",
            "image21: 0.12\n",
            "\n",
            "re-projection error:\n",
            "image22: 0.21\n",
            "\n",
            "re-projection error:\n",
            "image23: 0.16\n",
            "\n",
            "re-projection error:\n",
            "image24: 0.1\n",
            "\n",
            "re-projection error:\n",
            "image25: 0.09\n",
            "\n"
          ]
        }
      ],
      "source": [
        "# Reprojection Error\n",
        "\n",
        "count_error = 0\n",
        "error_arr = []\n",
        "\n",
        "for idx in range(len(object_pts)):\n",
        "  # print(idx)\n",
        "  img_pts2,_ = cv2.projectPoints(object_pts[idx], rvecs[idx], tvecs[idx], cameraMtx, distCoeff)\n",
        "  error = cv2.norm(image_pts[idx], img_pts2, cv2.NORM_L2)/len(img_pts2)\n",
        "  error_arr.append(error)\n",
        "  print(\"re-projection error:\")\n",
        "  print(\"image{}: {}\\n\".format(idx+1, round(error,2)))\n",
        "  count_error += error\n",
        "\n"
      ]
    },
    {
      "cell_type": "code",
      "execution_count": 15,
      "metadata": {
        "colab": {
          "base_uri": "https://localhost:8080/",
          "height": 472
        },
        "id": "2DVRLnsbEb6l",
        "outputId": "66fc68d1-91a8-4523-ac6a-1f31abd1c9bb"
      },
      "outputs": [
        {
          "output_type": "display_data",
          "data": {
            "text/plain": [
              "<Figure size 640x480 with 1 Axes>"
            ],
            "image/png": "[encoded data removed]"
          },
          "metadata": {}
        }
      ],
      "source": [
        "#Plotting errors using bar plot\n",
        "\n",
        "name_img_arr = []\n",
        "for idx in range(25):\n",
        "  # st = \"image\"+str(idx+1)\n",
        "  st = str(idx+1)\n",
        "  name_img_arr.append(st)\n",
        "\n",
        "# print(name_img_arr)\n",
        "# print(error_arr)\n",
        "\n",
        "# plt.figure(figsize=(4, 2))\n",
        "plt.bar(name_img_arr[:], error_arr[:])\n",
        "plt.title(\"Plot: error vs image\")\n",
        "plt.ylabel(\"error\")\n",
        "plt.xlabel(\"image\")\n",
        "plt.savefig(\"errors.png\", bbox_inches=\"tight\", pad_inches=2, transparent=False)\n",
        "plt.show()"
      ]
    },
    {
      "cell_type": "code",
      "execution_count": 16,
      "metadata": {
        "colab": {
          "base_uri": "https://localhost:8080/"
        },
        "id": "PuUa8YIgoY5e",
        "outputId": "654fe643-6037-4cb7-c458-49646b66d687"
      },
      "outputs": [
        {
          "output_type": "stream",
          "name": "stdout",
          "text": [
            "mean of re-projection: 0.13\n",
            "std deviation of re-projection: 0.04\n"
          ]
        }
      ],
      "source": [
        "mean_error = count_error/len(object_pts)\n",
        "print(\"mean of re-projection: {}\".format(round(mean_error,2)))\n",
        "\n",
        "sqOfDev_arr = [(error-mean_error)**2 for error in error_arr]\n",
        "# print(len(sqOfDev_arr), sqOfDev_arr)\n",
        "\n",
        "var_error = sum(sqOfDev_arr)/len(object_pts)\n",
        "print(\"std deviation of re-projection: {}\".format(round(math.sqrt(var_error),2)))"
      ]
    },
    {
      "cell_type": "markdown",
      "metadata": {
        "id": "0CdUKq5wHdii"
      },
      "source": [
        "## Part5) Showing detected corners"
      ]
    },
    {
      "cell_type": "markdown",
      "metadata": {
        "id": "kU2sG6slboh6"
      },
      "source": [
        "Calibrated images"
      ]
    },
    {
      "cell_type": "code",
      "execution_count": 17,
      "metadata": {
        "id": "nJEvfl9ybngl"
      },
      "outputs": [],
      "source": [
        "\n",
        "images = glob.glob(\"/content/drive/MyDrive/CV_H2/images25/*.jpg\")\n",
        "\n",
        "idx = 1\n",
        "path = \"/content/drive/MyDrive/CV_H2/calib_images25/\"\n",
        "for image in images:\n",
        "  img = cv2.imread(image)\n",
        "\n",
        "  h,w = img.shape[:2]\n",
        "  newCameraMatrix, roi = cv2.getOptimalNewCameraMatrix(cameraMtx, distCoeff, (w,h), 1, (w,h))\n",
        "\n",
        "  #Undistort the image\n",
        "  dst = cv2.undistort(img, cameraMtx, distCoeff, None, newCameraMatrix)\n",
        "  x, y, w, h = roi\n",
        "  dst = dst[y:y+h, x:x+w]\n",
        "  calib_img = path+\"calib_img\"+str(idx)+\".jpg\"\n",
        "  # print(calib_img)\n",
        "  cv2.imwrite(calib_img, dst)\n",
        "  idx += 1\n",
        "\n"
      ]
    },
    {
      "cell_type": "markdown",
      "metadata": {
        "id": "79XvqygybwTS"
      },
      "source": [
        "Storing path of calibrated images"
      ]
    },
    {
      "cell_type": "code",
      "execution_count": 18,
      "metadata": {
        "colab": {
          "base_uri": "https://localhost:8080/"
        },
        "id": "41WdN6SHHW-Y",
        "outputId": "117e693f-002d-4c41-a17d-678c89b17ee0"
      },
      "outputs": [
        {
          "output_type": "stream",
          "name": "stdout",
          "text": [
            "25 ['/content/drive/MyDrive/CV_H2/images25/IMG-20230409-WA0001.jpg', '/content/drive/MyDrive/CV_H2/images25/IMG-20230409-WA0002.jpg', '/content/drive/MyDrive/CV_H2/images25/IMG-20230409-WA0003.jpg', '/content/drive/MyDrive/CV_H2/images25/IMG-20230409-WA0004.jpg', '/content/drive/MyDrive/CV_H2/images25/IMG-20230409-WA0005.jpg', '/content/drive/MyDrive/CV_H2/images25/IMG-20230409-WA0006.jpg', '/content/drive/MyDrive/CV_H2/images25/IMG-20230409-WA0007.jpg', '/content/drive/MyDrive/CV_H2/images25/IMG-20230409-WA0008.jpg', '/content/drive/MyDrive/CV_H2/images25/IMG-20230409-WA0009.jpg', '/content/drive/MyDrive/CV_H2/images25/IMG-20230409-WA0010.jpg', '/content/drive/MyDrive/CV_H2/images25/IMG-20230409-WA0011.jpg', '/content/drive/MyDrive/CV_H2/images25/IMG-20230409-WA0012.jpg', '/content/drive/MyDrive/CV_H2/images25/IMG-20230409-WA0013.jpg', '/content/drive/MyDrive/CV_H2/images25/IMG-20230409-WA0014.jpg', '/content/drive/MyDrive/CV_H2/images25/IMG-20230409-WA0015.jpg', '/content/drive/MyDrive/CV_H2/images25/IMG-20230409-WA0016.jpg', '/content/drive/MyDrive/CV_H2/images25/IMG-20230409-WA0017.jpg', '/content/drive/MyDrive/CV_H2/images25/IMG-20230409-WA0018.jpg', '/content/drive/MyDrive/CV_H2/images25/IMG-20230409-WA0019.jpg', '/content/drive/MyDrive/CV_H2/images25/IMG-20230409-WA0020.jpg', '/content/drive/MyDrive/CV_H2/images25/IMG-20230409-WA0021.jpg', '/content/drive/MyDrive/CV_H2/images25/IMG-20230409-WA0022.jpg', '/content/drive/MyDrive/CV_H2/images25/IMG-20230409-WA0023.jpg', '/content/drive/MyDrive/CV_H2/images25/IMG-20230409-WA0024.jpg', '/content/drive/MyDrive/CV_H2/images25/IMG-20230409-WA0025.jpg']\n"
          ]
        }
      ],
      "source": [
        "images = glob.glob(\"/content/drive/MyDrive/CV_H2/images25/*.jpg\")\n",
        "\n",
        "calib_arr = []\n",
        "for image in images:\n",
        "  # print(image)\n",
        "  calib_arr.append(image)\n",
        "\n",
        "calib_arr.sort()\n",
        "print(len(calib_arr), calib_arr)\n"
      ]
    },
    {
      "cell_type": "code",
      "execution_count": 19,
      "metadata": {
        "colab": {
          "base_uri": "https://localhost:8080/"
        },
        "id": "dvm_9z5TRpny",
        "outputId": "dc09462a-0e73-4a5f-bcda-4128da4b10ec"
      },
      "outputs": [
        {
          "output_type": "stream",
          "name": "stdout",
          "text": [
            "25\n"
          ]
        }
      ],
      "source": [
        "# extracting each image\n",
        "# images = glob.glob(\"/content/drive/MyDrive/CV_H2/images25/*.jpg\")\n",
        "\n",
        "for image in calib_arr:\n",
        "\n",
        "  img = cv2.imread(image)\n",
        "  # print(img)\n",
        "  gray = cv2.cvtColor(img, cv2.COLOR_BGR2GRAY)\n",
        "\n",
        "  # finding the no. of corners\n",
        "  ret, corners = cv2.findChessboardCorners(gray, checkerBoard, cv2.CALIB_CB_ADAPTIVE_THRESH + cv2.CALIB_CB_FAST_CHECK + cv2.CALIB_CB_NORMALIZE_IMAGE)\n",
        "\n",
        "  if ret==True:\n",
        "    object_pts.append(objp)\n",
        "    corners2 = cv2.cornerSubPix(gray, corners, (11,11), (-1,-1), criteria)\n",
        "    image_pts.append(corners2)\n",
        "\n",
        "    # draw and display the corners\n",
        "    img = cv2.drawChessboardCorners(img, checkerBoard, corners2, ret) #for RGB images\n",
        "    # img = cv2.drawChessboardCorners(gray, checkerBoard, corners2, ret) #for gray scale images\n",
        "    # cv2_imshow(img)\n",
        "    cv2.waitKey(0)\n",
        "\n",
        "\n",
        "cv2.destroyAllWindows()\n",
        "\n",
        "print(len(rvecs))"
      ]
    },
    {
      "cell_type": "code",
      "source": [
        "# print(objp)"
      ],
      "metadata": {
        "id": "evf1g_g0zU9f"
      },
      "execution_count": 20,
      "outputs": []
    },
    {
      "cell_type": "code",
      "source": [
        "# print(object_pts)"
      ],
      "metadata": {
        "id": "tworQnZ88Y7J"
      },
      "execution_count": 21,
      "outputs": []
    },
    {
      "cell_type": "code",
      "source": [
        "for idx in range(len(calib_arr)):\n",
        "\n",
        "  img = cv2.imread(calib_arr[idx])\n",
        "  gray = cv2.cvtColor(img, cv2.COLOR_BGR2GRAY)\n",
        "  imgpoints2,_ = cv2.projectPoints(objp, rvecs[idx], tvecs[idx], cameraMtx, distCoeff)\n",
        "  # print(imgpoints2)\n",
        "\n",
        "  img = cv2.drawChessboardCorners(img, checkerBoard, imgpoints2, True) #for RGB images\n",
        "  # cv2_imshow(img)"
      ],
      "metadata": {
        "id": "AdaxiDKw0a5J"
      },
      "execution_count": 22,
      "outputs": []
    },
    {
      "cell_type": "markdown",
      "source": [
        "## Part 6)"
      ],
      "metadata": {
        "id": "oQSRDsFJ_8z2"
      }
    },
    {
      "cell_type": "code",
      "source": [
        "# extracting each image\n",
        "images = glob.glob(\"/content/drive/MyDrive/CV_H2/images25/*.jpg\")\n",
        "\n",
        "planeNormal_arr = []\n",
        "for idx in range(len(rvecs)):\n",
        "  # print(idx)\n",
        "  img = cv2.imread(image)\n",
        "  gray = cv2.cvtColor(img, cv2.COLOR_BGR2GRAY)\n",
        "\n",
        "  # compute checkerboard plane normal\n",
        "  rot,_ = cv2.Rodrigues(rvecs[idx])\n",
        "  plane_normal = rot[:, 2]\n",
        "  # print(plane_normal)\n",
        "  planeNormal_arr.append(plane_normal)\n",
        "\n",
        "# print(len(planeNormal_arr))\n",
        "\n",
        "Normal_arr = []\n",
        "for idx in range(len(planeNormal_arr)):\n",
        "  # print(idx)\n",
        "  tmp_arr = []\n",
        "  for comp in planeNormal_arr[idx]:\n",
        "    tmp_arr.append(round(comp,2))\n",
        "  Normal_arr.append(tmp_arr)\n",
        "\n",
        "# print checkerboard plane normals for each of 25 images\n",
        "for idx in range(len(Normal_arr)):\n",
        "  # print(idx)\n",
        "  print(\"image{}: n{} = {}\".format(idx+1, idx+1, Normal_arr[idx]))"
      ],
      "metadata": {
        "colab": {
          "base_uri": "https://localhost:8080/"
        },
        "id": "M7JQHl2b_8wd",
        "outputId": "67da1041-c1c1-4368-92ab-f8a83fdac675"
      },
      "execution_count": 23,
      "outputs": [
        {
          "output_type": "stream",
          "name": "stdout",
          "text": [
            "image1: n1 = [0.48, -0.39, 0.79]\n",
            "image2: n2 = [0.03, 0.05, 1.0]\n",
            "image3: n3 = [0.11, -0.6, 0.79]\n",
            "image4: n4 = [0.15, 0.3, 0.94]\n",
            "image5: n5 = [0.22, -0.01, 0.98]\n",
            "image6: n6 = [0.03, -0.39, 0.92]\n",
            "image7: n7 = [-0.21, -0.0, 0.98]\n",
            "image8: n8 = [0.02, 0.3, 0.95]\n",
            "image9: n9 = [-0.0, -0.01, 1.0]\n",
            "image10: n10 = [-0.02, -0.15, 0.99]\n",
            "image11: n11 = [-0.07, -0.57, 0.82]\n",
            "image12: n12 = [0.3, 0.05, 0.95]\n",
            "image13: n13 = [-0.69, -0.34, 0.64]\n",
            "image14: n14 = [-0.12, -0.49, 0.87]\n",
            "image15: n15 = [-0.36, 0.13, 0.92]\n",
            "image16: n16 = [0.52, -0.48, 0.71]\n",
            "image17: n17 = [0.21, 0.23, 0.95]\n",
            "image18: n18 = [0.44, 0.1, 0.89]\n",
            "image19: n19 = [-0.07, 0.41, 0.91]\n",
            "image20: n20 = [-0.23, 0.01, 0.97]\n",
            "image21: n21 = [0.21, 0.33, 0.92]\n",
            "image22: n22 = [-0.57, -0.09, 0.82]\n",
            "image23: n23 = [-0.14, -0.61, 0.78]\n",
            "image24: n24 = [0.36, -0.14, 0.92]\n",
            "image25: n25 = [0.02, -0.08, 1.0]\n"
          ]
        }
      ]
    },
    {
      "cell_type": "code",
      "source": [],
      "metadata": {
        "id": "1cAS95cVASEk"
      },
      "execution_count": 23,
      "outputs": []
    },
    {
      "cell_type": "code",
      "source": [],
      "metadata": {
        "id": "Key1IZ5EASBM"
      },
      "execution_count": 23,
      "outputs": []
    }
  ],
  "metadata": {
    "colab": {
      "provenance": [],
      "authorship_tag": "ABX9TyPrE49PqiOpvgZUK/aa4cbL",
      "include_colab_link": true
    },
    "kernelspec": {
      "display_name": "Python 3",
      "name": "python3"
    },
    "language_info": {
      "name": "python"
    }
  },
  "nbformat": 4,
  "nbformat_minor": 0
}